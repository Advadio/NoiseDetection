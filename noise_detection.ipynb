{
  "nbformat": 4,
  "nbformat_minor": 0,
  "metadata": {
    "colab": {
      "provenance": []
    },
    "kernelspec": {
      "name": "python3",
      "display_name": "Python 3"
    }
  },
  "cells": [
    {
      "cell_type": "markdown",
      "metadata": {
        "id": "u8b-OpFXR1Nv"
      },
      "source": [
        "# Noise Detection Using Machine Learning"
      ]
    },
    {
      "cell_type": "markdown",
      "metadata": {
        "id": "BlvJxOkXQf0o"
      },
      "source": [
        "## Authors: \n"
      ]
    },
    {
      "cell_type": "markdown",
      "metadata": {
        "id": "6y0M9Wq5S2Wv"
      },
      "source": [
        "***Lucas Li, Kailin Ke, Ryan Zhang*** \n",
        "\n",
        "California Polytechnic State University, San Luis Obispo;\n",
        "\n",
        "Computer Science & Software Engineering Department"
      ]
    },
    {
      "cell_type": "markdown",
      "metadata": {
        "id": "pX-MlbrETMe-"
      },
      "source": [
        "## Abstract"
      ]
    },
    {
      "cell_type": "markdown",
      "metadata": {
        "id": "uO-7j2l_R-9M"
      },
      "source": [
        "Modern life is filled with noises, but with the abundance of noise, people find it hard to identify the source for the noises, and the automation of detecting and recognizing noises is also a field that has great usage. Our group project, Noise detection AI is a binary classifier that processes audio files and predicts whether the sound is a noise. We will use labeled audio to train the model, and it will consequently produce predictions. \n",
        "\n",
        "Possible users for our product can be noise-cancel headphone companies, apartment management agencies, and all those individuals or organizations that require or are trying to establish a quiet environment. With our technology, it would be possible to recognize different kinds of noises so they can do further research or apply our findings. \n",
        "\n",
        "We will use librosa to transform the audio files into python arrays, and use sequential, knn, cnn models to train with the data. The dataset comes from https://github.com/karolpiczak/ESC-50.git and all audios are labeled. \n"
      ]
    },
    {
      "cell_type": "markdown",
      "metadata": {
        "id": "VyydW4wm_bue"
      },
      "source": [
        "# Copyright: Apache 2.0 License\n"
      ]
    },
    {
      "cell_type": "markdown",
      "metadata": {
        "id": "wuYUD6DXQ_PD"
      },
      "source": [
        "\n",
        "```\n",
        "# Licensed under the Apache License, Version 2.0 (the \"License\");\n",
        "# you may not use this file except in compliance with the License.\n",
        "# You may obtain a copy of the License at\n",
        "#\n",
        "# https://www.apache.org/licenses/LICENSE-2.0\n",
        "#\n",
        "# Unless required by applicable law or agreed to in writing, software\n",
        "# distributed under the License is distributed on an \"AS IS\" BASIS,\n",
        "# WITHOUT WARRANTIES OR CONDITIONS OF ANY KIND, either express or implied.\n",
        "# See the License for the specific language governing permissions and\n",
        "# limitations under the License.\n",
        "\n",
        "```\n"
      ]
    },
    {
      "cell_type": "markdown",
      "metadata": {
        "id": "az6mkV5OHQEa"
      },
      "source": [
        "# Colab Basics\n",
        "\n",
        "\n"
      ]
    },
    {
      "cell_type": "markdown",
      "metadata": {
        "id": "pVI_bs4tQILD"
      },
      "source": [
        "## Colab and Jupyter Notebooks\n"
      ]
    },
    {
      "cell_type": "markdown",
      "metadata": {
        "id": "dm4rb6kITXQo"
      },
      "source": [
        "# Overview"
      ]
    },
    {
      "cell_type": "markdown",
      "source": [
        "This is an audio classification AI model building module. Data accessing, processing, and training are the three major parts of this lab. Major Model used in this lab is sequential model. "
      ],
      "metadata": {
        "id": "w7CNfVe6ini0"
      }
    },
    {
      "cell_type": "markdown",
      "metadata": {
        "id": "7mknHApYUOoz"
      },
      "source": [
        "## Prerequisites"
      ]
    },
    {
      "cell_type": "markdown",
      "metadata": {
        "id": "zRZebPe-UUYf"
      },
      "source": [
        "Readers should have basic knowledge on audio processing, MFCC formatting, and neural networks. \n",
        "\n",
        "Required libraries: librosa, tensorflow"
      ]
    },
    {
      "cell_type": "code",
      "source": [
        "import librosa\n",
        "import librosa.display"
      ],
      "metadata": {
        "id": "ucoQLZhuq77o"
      },
      "execution_count": 3,
      "outputs": []
    },
    {
      "cell_type": "markdown",
      "metadata": {
        "id": "Ysx6aVbsUiLk"
      },
      "source": [
        "##Learning Objectives"
      ]
    },
    {
      "cell_type": "markdown",
      "metadata": {
        "id": "nU2BOLDGUluv"
      },
      "source": [
        "*   Learn how sequential model is built and tested\n",
        "*   Learn how to load and process audio \n",
        "*   Learn how to separate training data and testing data\n",
        "\n"
      ]
    },
    {
      "cell_type": "markdown",
      "metadata": {
        "id": "1--NMRPQpbFD"
      },
      "source": [
        "# Data Set\n"
      ]
    },
    {
      "cell_type": "markdown",
      "source": [
        "Load dataset from Google cloud drive"
      ],
      "metadata": {
        "id": "K6l3G88OrBuu"
      }
    },
    {
      "cell_type": "code",
      "source": [
        "from google.colab import drive\n",
        "drive.mount('/content/drive')"
      ],
      "metadata": {
        "id": "Yj9Onm_Eq6DU",
        "colab": {
          "base_uri": "https://localhost:8080/"
        },
        "outputId": "7c3c44a3-d5d1-4a26-88a9-7c0b6f7a35be"
      },
      "execution_count": 4,
      "outputs": [
        {
          "output_type": "stream",
          "name": "stdout",
          "text": [
            "Drive already mounted at /content/drive; to attempt to forcibly remount, call drive.mount(\"/content/drive\", force_remount=True).\n"
          ]
        }
      ]
    },
    {
      "cell_type": "markdown",
      "source": [
        "You can download and upload the folder to google drive from  https://github.com/karolpiczak/ESC-50.git, make it sure that you rename the folder as 'audio' before uploading. "
      ],
      "metadata": {
        "id": "oD3mPX5muvSV"
      }
    },
    {
      "cell_type": "code",
      "source": [
        "import os\n",
        "path = '/content/drive/MyDrive/audio/'\n",
        "audio_list = os.listdir(path)"
      ],
      "metadata": {
        "id": "TmBK6h-6rGOe"
      },
      "execution_count": 5,
      "outputs": []
    },
    {
      "cell_type": "markdown",
      "metadata": {
        "id": "DtuIL90ABohd"
      },
      "source": [
        "## Data Preparation"
      ]
    },
    {
      "cell_type": "markdown",
      "metadata": {
        "id": "LIGAP2BsKjqL"
      },
      "source": [
        "### Preprocessing"
      ]
    },
    {
      "cell_type": "markdown",
      "source": [
        "Feature extractor will take file name and process it by mfcc transformation and returns a python array"
      ],
      "metadata": {
        "id": "xBqZjPLcrZJa"
      }
    },
    {
      "cell_type": "code",
      "source": [
        "import numpy as np\n",
        "\n",
        "def features_extractor(file):\n",
        "    audio, sample_rate = librosa.load(file, res_type='kaiser_fast') \n",
        "    mfccs_features = librosa.feature.mfcc(y=audio, sr=sample_rate, n_mfcc=40)\n",
        "    mfccs_scaled_features = np.mean(mfccs_features.T,axis=0)\n",
        "    \n",
        "    return mfccs_scaled_features"
      ],
      "metadata": {
        "id": "kgfI9sydrM_A"
      },
      "execution_count": 6,
      "outputs": []
    },
    {
      "cell_type": "markdown",
      "source": [
        "Now we iterate through every audio file and extract features using MFCC"
      ],
      "metadata": {
        "id": "cN_Fai2ArplN"
      }
    },
    {
      "cell_type": "code",
      "source": [
        "extracted_features=[]\n",
        "i = 0\n",
        "print('.'*100)\n",
        "for filename in audio_list:\n",
        "  audio_path = path + filename\n",
        "  class_label = 1 if filename[0] == '5' else 0\n",
        "  data = features_extractor(audio_path)\n",
        "  extracted_features.append([data, class_label])\n",
        "  i += 1\n",
        "  if i % 20 == 0:\n",
        "    print('.', end='')"
      ],
      "metadata": {
        "id": "NhAqtvYVrjZ5",
        "colab": {
          "base_uri": "https://localhost:8080/"
        },
        "outputId": "f62451d3-fb16-4853-bbfc-c9022c68f081"
      },
      "execution_count": 8,
      "outputs": [
        {
          "output_type": "stream",
          "name": "stdout",
          "text": [
            "....................................................................................................\n",
            "...................................................................................................."
          ]
        }
      ]
    },
    {
      "cell_type": "markdown",
      "source": [
        "put data into dataframe using Pandas"
      ],
      "metadata": {
        "id": "gGfFbFs2sEcv"
      }
    },
    {
      "cell_type": "code",
      "source": [
        "import pandas as pd\n",
        "# mfcc feature dataframe construction\n",
        "extracted_features_df=pd.DataFrame(extracted_features,columns=['feature','class'])\n",
        "extracted_features_df.head()"
      ],
      "metadata": {
        "id": "YJdvZNsMsHsQ",
        "colab": {
          "base_uri": "https://localhost:8080/",
          "height": 206
        },
        "outputId": "0aa9b550-e942-4cb8-9320-000df0085bc8"
      },
      "execution_count": 9,
      "outputs": [
        {
          "output_type": "execute_result",
          "data": {
            "text/plain": [
              "                                             feature  class\n",
              "0  [-581.5875, 20.211653, -7.788693, -0.61071056,...      0\n",
              "1  [-527.4214, 31.830875, -1.0057539, 41.409687, ...      0\n",
              "2  [-135.3644, 97.22801, -77.85827, 11.474359, -1...      0\n",
              "3  [-315.32336, 39.60734, -47.233456, 28.209513, ...      0\n",
              "4  [-429.4027, 97.49279, -36.4146, 13.635209, 48....      0"
            ],
            "text/html": [
              "\n",
              "  <div id=\"df-4a096bd5-80ae-45e6-b2c2-b11928a34bfb\">\n",
              "    <div class=\"colab-df-container\">\n",
              "      <div>\n",
              "<style scoped>\n",
              "    .dataframe tbody tr th:only-of-type {\n",
              "        vertical-align: middle;\n",
              "    }\n",
              "\n",
              "    .dataframe tbody tr th {\n",
              "        vertical-align: top;\n",
              "    }\n",
              "\n",
              "    .dataframe thead th {\n",
              "        text-align: right;\n",
              "    }\n",
              "</style>\n",
              "<table border=\"1\" class=\"dataframe\">\n",
              "  <thead>\n",
              "    <tr style=\"text-align: right;\">\n",
              "      <th></th>\n",
              "      <th>feature</th>\n",
              "      <th>class</th>\n",
              "    </tr>\n",
              "  </thead>\n",
              "  <tbody>\n",
              "    <tr>\n",
              "      <th>0</th>\n",
              "      <td>[-581.5875, 20.211653, -7.788693, -0.61071056,...</td>\n",
              "      <td>0</td>\n",
              "    </tr>\n",
              "    <tr>\n",
              "      <th>1</th>\n",
              "      <td>[-527.4214, 31.830875, -1.0057539, 41.409687, ...</td>\n",
              "      <td>0</td>\n",
              "    </tr>\n",
              "    <tr>\n",
              "      <th>2</th>\n",
              "      <td>[-135.3644, 97.22801, -77.85827, 11.474359, -1...</td>\n",
              "      <td>0</td>\n",
              "    </tr>\n",
              "    <tr>\n",
              "      <th>3</th>\n",
              "      <td>[-315.32336, 39.60734, -47.233456, 28.209513, ...</td>\n",
              "      <td>0</td>\n",
              "    </tr>\n",
              "    <tr>\n",
              "      <th>4</th>\n",
              "      <td>[-429.4027, 97.49279, -36.4146, 13.635209, 48....</td>\n",
              "      <td>0</td>\n",
              "    </tr>\n",
              "  </tbody>\n",
              "</table>\n",
              "</div>\n",
              "      <button class=\"colab-df-convert\" onclick=\"convertToInteractive('df-4a096bd5-80ae-45e6-b2c2-b11928a34bfb')\"\n",
              "              title=\"Convert this dataframe to an interactive table.\"\n",
              "              style=\"display:none;\">\n",
              "        \n",
              "  <svg xmlns=\"http://www.w3.org/2000/svg\" height=\"24px\"viewBox=\"0 0 24 24\"\n",
              "       width=\"24px\">\n",
              "    <path d=\"M0 0h24v24H0V0z\" fill=\"none\"/>\n",
              "    <path d=\"M18.56 5.44l.94 2.06.94-2.06 2.06-.94-2.06-.94-.94-2.06-.94 2.06-2.06.94zm-11 1L8.5 8.5l.94-2.06 2.06-.94-2.06-.94L8.5 2.5l-.94 2.06-2.06.94zm10 10l.94 2.06.94-2.06 2.06-.94-2.06-.94-.94-2.06-.94 2.06-2.06.94z\"/><path d=\"M17.41 7.96l-1.37-1.37c-.4-.4-.92-.59-1.43-.59-.52 0-1.04.2-1.43.59L10.3 9.45l-7.72 7.72c-.78.78-.78 2.05 0 2.83L4 21.41c.39.39.9.59 1.41.59.51 0 1.02-.2 1.41-.59l7.78-7.78 2.81-2.81c.8-.78.8-2.07 0-2.86zM5.41 20L4 18.59l7.72-7.72 1.47 1.35L5.41 20z\"/>\n",
              "  </svg>\n",
              "      </button>\n",
              "      \n",
              "  <style>\n",
              "    .colab-df-container {\n",
              "      display:flex;\n",
              "      flex-wrap:wrap;\n",
              "      gap: 12px;\n",
              "    }\n",
              "\n",
              "    .colab-df-convert {\n",
              "      background-color: #E8F0FE;\n",
              "      border: none;\n",
              "      border-radius: 50%;\n",
              "      cursor: pointer;\n",
              "      display: none;\n",
              "      fill: #1967D2;\n",
              "      height: 32px;\n",
              "      padding: 0 0 0 0;\n",
              "      width: 32px;\n",
              "    }\n",
              "\n",
              "    .colab-df-convert:hover {\n",
              "      background-color: #E2EBFA;\n",
              "      box-shadow: 0px 1px 2px rgba(60, 64, 67, 0.3), 0px 1px 3px 1px rgba(60, 64, 67, 0.15);\n",
              "      fill: #174EA6;\n",
              "    }\n",
              "\n",
              "    [theme=dark] .colab-df-convert {\n",
              "      background-color: #3B4455;\n",
              "      fill: #D2E3FC;\n",
              "    }\n",
              "\n",
              "    [theme=dark] .colab-df-convert:hover {\n",
              "      background-color: #434B5C;\n",
              "      box-shadow: 0px 1px 3px 1px rgba(0, 0, 0, 0.15);\n",
              "      filter: drop-shadow(0px 1px 2px rgba(0, 0, 0, 0.3));\n",
              "      fill: #FFFFFF;\n",
              "    }\n",
              "  </style>\n",
              "\n",
              "      <script>\n",
              "        const buttonEl =\n",
              "          document.querySelector('#df-4a096bd5-80ae-45e6-b2c2-b11928a34bfb button.colab-df-convert');\n",
              "        buttonEl.style.display =\n",
              "          google.colab.kernel.accessAllowed ? 'block' : 'none';\n",
              "\n",
              "        async function convertToInteractive(key) {\n",
              "          const element = document.querySelector('#df-4a096bd5-80ae-45e6-b2c2-b11928a34bfb');\n",
              "          const dataTable =\n",
              "            await google.colab.kernel.invokeFunction('convertToInteractive',\n",
              "                                                     [key], {});\n",
              "          if (!dataTable) return;\n",
              "\n",
              "          const docLinkHtml = 'Like what you see? Visit the ' +\n",
              "            '<a target=\"_blank\" href=https://colab.research.google.com/notebooks/data_table.ipynb>data table notebook</a>'\n",
              "            + ' to learn more about interactive tables.';\n",
              "          element.innerHTML = '';\n",
              "          dataTable['output_type'] = 'display_data';\n",
              "          await google.colab.output.renderOutput(dataTable, element);\n",
              "          const docLink = document.createElement('div');\n",
              "          docLink.innerHTML = docLinkHtml;\n",
              "          element.appendChild(docLink);\n",
              "        }\n",
              "      </script>\n",
              "    </div>\n",
              "  </div>\n",
              "  "
            ]
          },
          "metadata": {},
          "execution_count": 9
        }
      ]
    },
    {
      "cell_type": "markdown",
      "source": [
        "catagorize the label and load the data to inputs and outputs"
      ],
      "metadata": {
        "id": "pnoMjFBcsJc_"
      }
    },
    {
      "cell_type": "code",
      "source": [
        "X=np.array(extracted_features_df['feature'].tolist())\n",
        "y=np.array(extracted_features_df['class'].tolist())\n",
        "from tensorflow.keras.utils import to_categorical\n",
        "from sklearn.preprocessing import LabelEncoder\n",
        "labelencoder=LabelEncoder()\n",
        "y=to_categorical(labelencoder.fit_transform(y))"
      ],
      "metadata": {
        "id": "cLWmMbr9sM0_"
      },
      "execution_count": 10,
      "outputs": []
    },
    {
      "cell_type": "markdown",
      "source": [
        "Separate the data into training data and testing data"
      ],
      "metadata": {
        "id": "-hAyCHalseUJ"
      }
    },
    {
      "cell_type": "code",
      "source": [
        "from sklearn.model_selection import train_test_split\n",
        "X_train,X_test,y_train,y_test=train_test_split(X,y,test_size=0.2,random_state=0)"
      ],
      "metadata": {
        "id": "zYYLV21jshNi"
      },
      "execution_count": 11,
      "outputs": []
    },
    {
      "cell_type": "markdown",
      "metadata": {
        "id": "5oNNvkgvpgXa"
      },
      "source": [
        "# Model "
      ]
    },
    {
      "cell_type": "markdown",
      "metadata": {
        "id": "k6Ksvji1MOZo"
      },
      "source": [
        "## Model Selection"
      ]
    },
    {
      "cell_type": "markdown",
      "source": [
        "* *italicized text* Sequential Model"
      ],
      "metadata": {
        "id": "KftLFLA5slXb"
      }
    },
    {
      "cell_type": "markdown",
      "metadata": {
        "id": "F93VhhaeMiuO"
      },
      "source": [
        "## Model Design"
      ]
    },
    {
      "cell_type": "markdown",
      "metadata": {
        "id": "yt-lnkh-MpgR"
      },
      "source": [
        "A sequential model with multiple layers will be built "
      ]
    },
    {
      "cell_type": "markdown",
      "source": [
        "build the model"
      ],
      "metadata": {
        "id": "t_3lO22as1w4"
      }
    },
    {
      "cell_type": "code",
      "source": [
        "from tensorflow.keras.models import Sequential\n",
        "from tensorflow.keras.layers import Dense,Dropout,Activation,Flatten\n",
        "from tensorflow.keras.optimizers import Adam\n",
        "from sklearn import metrics"
      ],
      "metadata": {
        "id": "-l8eu876s5wF"
      },
      "execution_count": 12,
      "outputs": []
    },
    {
      "cell_type": "code",
      "source": [
        "### No of classes\n",
        "num_labels=y.shape[1]\n",
        "model=Sequential()\n",
        "###first layer\n",
        "model.add(Dense(100,input_shape=(40, )))\n",
        "model.add(Activation('relu'))\n",
        "model.add(Dropout(0.5))\n",
        "###second layer\n",
        "model.add(Dense(200))\n",
        "model.add(Activation('relu'))\n",
        "model.add(Dropout(0.5))\n",
        "###third layer\n",
        "model.add(Dense(100))\n",
        "model.add(Activation('relu'))\n",
        "model.add(Dropout(0.5))\n",
        "\n",
        "###final layer\n",
        "model.add(Dense(num_labels))\n",
        "model.add(Activation('softmax'))"
      ],
      "metadata": {
        "id": "N06hWGfZs8dA"
      },
      "execution_count": 13,
      "outputs": []
    },
    {
      "cell_type": "code",
      "source": [
        "model.summary()"
      ],
      "metadata": {
        "id": "cZN36L1ys_Dq",
        "colab": {
          "base_uri": "https://localhost:8080/"
        },
        "outputId": "e11b0c80-d0b1-4580-df1e-c1e37603f98a"
      },
      "execution_count": 14,
      "outputs": [
        {
          "output_type": "stream",
          "name": "stdout",
          "text": [
            "Model: \"sequential\"\n",
            "_________________________________________________________________\n",
            " Layer (type)                Output Shape              Param #   \n",
            "=================================================================\n",
            " dense (Dense)               (None, 100)               4100      \n",
            "                                                                 \n",
            " activation (Activation)     (None, 100)               0         \n",
            "                                                                 \n",
            " dropout (Dropout)           (None, 100)               0         \n",
            "                                                                 \n",
            " dense_1 (Dense)             (None, 200)               20200     \n",
            "                                                                 \n",
            " activation_1 (Activation)   (None, 200)               0         \n",
            "                                                                 \n",
            " dropout_1 (Dropout)         (None, 200)               0         \n",
            "                                                                 \n",
            " dense_2 (Dense)             (None, 100)               20100     \n",
            "                                                                 \n",
            " activation_2 (Activation)   (None, 100)               0         \n",
            "                                                                 \n",
            " dropout_2 (Dropout)         (None, 100)               0         \n",
            "                                                                 \n",
            " dense_3 (Dense)             (None, 2)                 202       \n",
            "                                                                 \n",
            " activation_3 (Activation)   (None, 2)                 0         \n",
            "                                                                 \n",
            "=================================================================\n",
            "Total params: 44,602\n",
            "Trainable params: 44,602\n",
            "Non-trainable params: 0\n",
            "_________________________________________________________________\n"
          ]
        }
      ]
    },
    {
      "cell_type": "code",
      "source": [
        "model.compile(loss='categorical_crossentropy',metrics=['accuracy'],optimizer='adam')"
      ],
      "metadata": {
        "id": "iL1ZQQ2ltApv"
      },
      "execution_count": 15,
      "outputs": []
    },
    {
      "cell_type": "markdown",
      "metadata": {
        "id": "7wmXO7-cpvv1"
      },
      "source": [
        "## Model Training"
      ]
    },
    {
      "cell_type": "markdown",
      "source": [
        "Train the model with processed data"
      ],
      "metadata": {
        "id": "Z2-eB_sytC25"
      }
    },
    {
      "cell_type": "code",
      "source": [
        "from tensorflow.keras.callbacks import ModelCheckpoint\n",
        "from datetime import datetime \n",
        "\n",
        "num_epochs = 100\n",
        "num_batch_size = 32\n",
        "\n",
        "checkpointer = ModelCheckpoint(filepath='saved_models/audio_classification.hdf5', \n",
        "                               verbose=1, save_best_only=True)\n",
        "start = datetime.now()\n",
        "\n",
        "model.fit(X_train, y_train, batch_size=num_batch_size, epochs=num_epochs, validation_data=(X_test, y_test), callbacks=[checkpointer], verbose=1)\n",
        "\n",
        "\n",
        "duration = datetime.now() - start\n",
        "print(\"Training completed in time: \", duration)"
      ],
      "metadata": {
        "id": "_vdMQOvMtFfY",
        "colab": {
          "base_uri": "https://localhost:8080/"
        },
        "outputId": "c5dd45fe-be83-44d5-899d-43b1300d3978"
      },
      "execution_count": 16,
      "outputs": [
        {
          "output_type": "stream",
          "name": "stdout",
          "text": [
            "Epoch 1/100\n",
            "43/50 [========================>.....] - ETA: 0s - loss: 10.0053 - accuracy: 0.6831\n",
            "Epoch 1: val_loss improved from inf to 0.93699, saving model to saved_models/audio_classification.hdf5\n",
            "50/50 [==============================] - 2s 11ms/step - loss: 9.4126 - accuracy: 0.6812 - val_loss: 0.9370 - val_accuracy: 0.8150\n",
            "Epoch 2/100\n",
            "46/50 [==========================>...] - ETA: 0s - loss: 4.1260 - accuracy: 0.6834\n",
            "Epoch 2: val_loss improved from 0.93699 to 0.73480, saving model to saved_models/audio_classification.hdf5\n",
            "50/50 [==============================] - 0s 6ms/step - loss: 4.0493 - accuracy: 0.6825 - val_loss: 0.7348 - val_accuracy: 0.8150\n",
            "Epoch 3/100\n",
            "44/50 [=========================>....] - ETA: 0s - loss: 2.5720 - accuracy: 0.6712\n",
            "Epoch 3: val_loss improved from 0.73480 to 0.52577, saving model to saved_models/audio_classification.hdf5\n",
            "50/50 [==============================] - 0s 5ms/step - loss: 2.5012 - accuracy: 0.6712 - val_loss: 0.5258 - val_accuracy: 0.8100\n",
            "Epoch 4/100\n",
            "46/50 [==========================>...] - ETA: 0s - loss: 1.6444 - accuracy: 0.6793\n",
            "Epoch 4: val_loss did not improve from 0.52577\n",
            "50/50 [==============================] - 0s 4ms/step - loss: 1.6004 - accuracy: 0.6781 - val_loss: 0.6195 - val_accuracy: 0.8075\n",
            "Epoch 5/100\n",
            "43/50 [========================>.....] - ETA: 0s - loss: 1.0722 - accuracy: 0.6940\n",
            "Epoch 5: val_loss did not improve from 0.52577\n",
            "50/50 [==============================] - 0s 5ms/step - loss: 1.0735 - accuracy: 0.6969 - val_loss: 0.6378 - val_accuracy: 0.8150\n",
            "Epoch 6/100\n",
            "46/50 [==========================>...] - ETA: 0s - loss: 0.8500 - accuracy: 0.7140\n",
            "Epoch 6: val_loss did not improve from 0.52577\n",
            "50/50 [==============================] - 0s 4ms/step - loss: 0.8431 - accuracy: 0.7156 - val_loss: 0.6124 - val_accuracy: 0.8150\n",
            "Epoch 7/100\n",
            "48/50 [===========================>..] - ETA: 0s - loss: 0.7718 - accuracy: 0.7422\n",
            "Epoch 7: val_loss did not improve from 0.52577\n",
            "50/50 [==============================] - 0s 4ms/step - loss: 0.7638 - accuracy: 0.7456 - val_loss: 0.6178 - val_accuracy: 0.8150\n",
            "Epoch 8/100\n",
            "46/50 [==========================>...] - ETA: 0s - loss: 0.7466 - accuracy: 0.7493\n",
            "Epoch 8: val_loss did not improve from 0.52577\n",
            "50/50 [==============================] - 0s 4ms/step - loss: 0.7428 - accuracy: 0.7525 - val_loss: 0.6127 - val_accuracy: 0.8150\n",
            "Epoch 9/100\n",
            "48/50 [===========================>..] - ETA: 0s - loss: 0.6546 - accuracy: 0.7630\n",
            "Epoch 9: val_loss did not improve from 0.52577\n",
            "50/50 [==============================] - 0s 4ms/step - loss: 0.6464 - accuracy: 0.7631 - val_loss: 0.6018 - val_accuracy: 0.8150\n",
            "Epoch 10/100\n",
            "50/50 [==============================] - ETA: 0s - loss: 0.6234 - accuracy: 0.7738\n",
            "Epoch 10: val_loss did not improve from 0.52577\n",
            "50/50 [==============================] - 0s 5ms/step - loss: 0.6234 - accuracy: 0.7738 - val_loss: 0.5851 - val_accuracy: 0.8150\n",
            "Epoch 11/100\n",
            "45/50 [==========================>...] - ETA: 0s - loss: 0.5756 - accuracy: 0.7806\n",
            "Epoch 11: val_loss did not improve from 0.52577\n",
            "50/50 [==============================] - 0s 5ms/step - loss: 0.5730 - accuracy: 0.7800 - val_loss: 0.5666 - val_accuracy: 0.8150\n",
            "Epoch 12/100\n",
            "49/50 [============================>.] - ETA: 0s - loss: 0.5709 - accuracy: 0.7793\n",
            "Epoch 12: val_loss did not improve from 0.52577\n",
            "50/50 [==============================] - 0s 4ms/step - loss: 0.5706 - accuracy: 0.7788 - val_loss: 0.5757 - val_accuracy: 0.8150\n",
            "Epoch 13/100\n",
            "42/50 [========================>.....] - ETA: 0s - loss: 0.5805 - accuracy: 0.7783\n",
            "Epoch 13: val_loss did not improve from 0.52577\n",
            "50/50 [==============================] - 0s 5ms/step - loss: 0.5736 - accuracy: 0.7806 - val_loss: 0.5658 - val_accuracy: 0.8150\n",
            "Epoch 14/100\n",
            "42/50 [========================>.....] - ETA: 0s - loss: 0.5550 - accuracy: 0.7909\n",
            "Epoch 14: val_loss did not improve from 0.52577\n",
            "50/50 [==============================] - 0s 5ms/step - loss: 0.5586 - accuracy: 0.7900 - val_loss: 0.5655 - val_accuracy: 0.8150\n",
            "Epoch 15/100\n",
            "46/50 [==========================>...] - ETA: 0s - loss: 0.5624 - accuracy: 0.7826\n",
            "Epoch 15: val_loss did not improve from 0.52577\n",
            "50/50 [==============================] - 0s 4ms/step - loss: 0.5544 - accuracy: 0.7894 - val_loss: 0.5443 - val_accuracy: 0.8150\n",
            "Epoch 16/100\n",
            "44/50 [=========================>....] - ETA: 0s - loss: 0.5556 - accuracy: 0.7912\n",
            "Epoch 16: val_loss did not improve from 0.52577\n",
            "50/50 [==============================] - 0s 4ms/step - loss: 0.5599 - accuracy: 0.7875 - val_loss: 0.5350 - val_accuracy: 0.8150\n",
            "Epoch 17/100\n",
            "47/50 [===========================>..] - ETA: 0s - loss: 0.5369 - accuracy: 0.7939\n",
            "Epoch 17: val_loss did not improve from 0.52577\n",
            "50/50 [==============================] - 0s 4ms/step - loss: 0.5454 - accuracy: 0.7912 - val_loss: 0.5341 - val_accuracy: 0.8150\n",
            "Epoch 18/100\n",
            "39/50 [======================>.......] - ETA: 0s - loss: 0.5346 - accuracy: 0.7901\n",
            "Epoch 18: val_loss improved from 0.52577 to 0.52541, saving model to saved_models/audio_classification.hdf5\n",
            "50/50 [==============================] - 0s 6ms/step - loss: 0.5419 - accuracy: 0.7869 - val_loss: 0.5254 - val_accuracy: 0.8150\n",
            "Epoch 19/100\n",
            "45/50 [==========================>...] - ETA: 0s - loss: 0.5440 - accuracy: 0.7944\n",
            "Epoch 19: val_loss did not improve from 0.52541\n",
            "50/50 [==============================] - 0s 5ms/step - loss: 0.5502 - accuracy: 0.7900 - val_loss: 0.5268 - val_accuracy: 0.8150\n",
            "Epoch 20/100\n",
            "45/50 [==========================>...] - ETA: 0s - loss: 0.5202 - accuracy: 0.7931\n",
            "Epoch 20: val_loss improved from 0.52541 to 0.52106, saving model to saved_models/audio_classification.hdf5\n",
            "50/50 [==============================] - 0s 5ms/step - loss: 0.5173 - accuracy: 0.7950 - val_loss: 0.5211 - val_accuracy: 0.8150\n",
            "Epoch 21/100\n",
            "40/50 [=======================>......] - ETA: 0s - loss: 0.5425 - accuracy: 0.8000\n",
            "Epoch 21: val_loss did not improve from 0.52106\n",
            "50/50 [==============================] - 0s 5ms/step - loss: 0.5515 - accuracy: 0.7956 - val_loss: 0.5220 - val_accuracy: 0.8150\n",
            "Epoch 22/100\n",
            "43/50 [========================>.....] - ETA: 0s - loss: 0.5346 - accuracy: 0.7951\n",
            "Epoch 22: val_loss improved from 0.52106 to 0.51882, saving model to saved_models/audio_classification.hdf5\n",
            "50/50 [==============================] - 0s 5ms/step - loss: 0.5319 - accuracy: 0.7956 - val_loss: 0.5188 - val_accuracy: 0.8150\n",
            "Epoch 23/100\n",
            "48/50 [===========================>..] - ETA: 0s - loss: 0.5187 - accuracy: 0.7975\n",
            "Epoch 23: val_loss improved from 0.51882 to 0.51699, saving model to saved_models/audio_classification.hdf5\n",
            "50/50 [==============================] - 0s 5ms/step - loss: 0.5246 - accuracy: 0.7925 - val_loss: 0.5170 - val_accuracy: 0.8150\n",
            "Epoch 24/100\n",
            "46/50 [==========================>...] - ETA: 0s - loss: 0.5234 - accuracy: 0.7969\n",
            "Epoch 24: val_loss improved from 0.51699 to 0.51641, saving model to saved_models/audio_classification.hdf5\n",
            "50/50 [==============================] - 0s 6ms/step - loss: 0.5259 - accuracy: 0.7937 - val_loss: 0.5164 - val_accuracy: 0.8150\n",
            "Epoch 25/100\n",
            "45/50 [==========================>...] - ETA: 0s - loss: 0.5268 - accuracy: 0.7951\n",
            "Epoch 25: val_loss improved from 0.51641 to 0.50911, saving model to saved_models/audio_classification.hdf5\n",
            "50/50 [==============================] - 0s 5ms/step - loss: 0.5277 - accuracy: 0.7931 - val_loss: 0.5091 - val_accuracy: 0.8150\n",
            "Epoch 26/100\n",
            "43/50 [========================>.....] - ETA: 0s - loss: 0.5156 - accuracy: 0.8009\n",
            "Epoch 26: val_loss did not improve from 0.50911\n",
            "50/50 [==============================] - 0s 4ms/step - loss: 0.5191 - accuracy: 0.7962 - val_loss: 0.5125 - val_accuracy: 0.8150\n",
            "Epoch 27/100\n",
            "49/50 [============================>.] - ETA: 0s - loss: 0.5206 - accuracy: 0.7953\n",
            "Epoch 27: val_loss improved from 0.50911 to 0.50704, saving model to saved_models/audio_classification.hdf5\n",
            "50/50 [==============================] - 0s 6ms/step - loss: 0.5213 - accuracy: 0.7944 - val_loss: 0.5070 - val_accuracy: 0.8150\n",
            "Epoch 28/100\n",
            "46/50 [==========================>...] - ETA: 0s - loss: 0.5184 - accuracy: 0.7955\n",
            "Epoch 28: val_loss improved from 0.50704 to 0.50601, saving model to saved_models/audio_classification.hdf5\n",
            "50/50 [==============================] - 0s 5ms/step - loss: 0.5198 - accuracy: 0.7956 - val_loss: 0.5060 - val_accuracy: 0.8150\n",
            "Epoch 29/100\n",
            "48/50 [===========================>..] - ETA: 0s - loss: 0.5222 - accuracy: 0.7956\n",
            "Epoch 29: val_loss improved from 0.50601 to 0.49901, saving model to saved_models/audio_classification.hdf5\n",
            "50/50 [==============================] - 0s 5ms/step - loss: 0.5209 - accuracy: 0.7962 - val_loss: 0.4990 - val_accuracy: 0.8150\n",
            "Epoch 30/100\n",
            "42/50 [========================>.....] - ETA: 0s - loss: 0.5102 - accuracy: 0.7954\n",
            "Epoch 30: val_loss improved from 0.49901 to 0.49782, saving model to saved_models/audio_classification.hdf5\n",
            "50/50 [==============================] - 0s 5ms/step - loss: 0.5148 - accuracy: 0.7944 - val_loss: 0.4978 - val_accuracy: 0.8150\n",
            "Epoch 31/100\n",
            "48/50 [===========================>..] - ETA: 0s - loss: 0.5237 - accuracy: 0.7949\n",
            "Epoch 31: val_loss did not improve from 0.49782\n",
            "50/50 [==============================] - 0s 4ms/step - loss: 0.5260 - accuracy: 0.7937 - val_loss: 0.5005 - val_accuracy: 0.8150\n",
            "Epoch 32/100\n",
            "50/50 [==============================] - ETA: 0s - loss: 0.5183 - accuracy: 0.7956\n",
            "Epoch 32: val_loss improved from 0.49782 to 0.49495, saving model to saved_models/audio_classification.hdf5\n",
            "50/50 [==============================] - 0s 5ms/step - loss: 0.5183 - accuracy: 0.7956 - val_loss: 0.4949 - val_accuracy: 0.8150\n",
            "Epoch 33/100\n",
            "48/50 [===========================>..] - ETA: 0s - loss: 0.5204 - accuracy: 0.7949\n",
            "Epoch 33: val_loss improved from 0.49495 to 0.49424, saving model to saved_models/audio_classification.hdf5\n",
            "50/50 [==============================] - 0s 5ms/step - loss: 0.5197 - accuracy: 0.7950 - val_loss: 0.4942 - val_accuracy: 0.8150\n",
            "Epoch 34/100\n",
            "47/50 [===========================>..] - ETA: 0s - loss: 0.5161 - accuracy: 0.7945\n",
            "Epoch 34: val_loss did not improve from 0.49424\n",
            "50/50 [==============================] - 0s 4ms/step - loss: 0.5144 - accuracy: 0.7969 - val_loss: 0.4945 - val_accuracy: 0.8150\n",
            "Epoch 35/100\n",
            "50/50 [==============================] - ETA: 0s - loss: 0.5048 - accuracy: 0.7956\n",
            "Epoch 35: val_loss improved from 0.49424 to 0.49206, saving model to saved_models/audio_classification.hdf5\n",
            "50/50 [==============================] - 0s 5ms/step - loss: 0.5048 - accuracy: 0.7956 - val_loss: 0.4921 - val_accuracy: 0.8150\n",
            "Epoch 36/100\n",
            "45/50 [==========================>...] - ETA: 0s - loss: 0.5230 - accuracy: 0.7903\n",
            "Epoch 36: val_loss did not improve from 0.49206\n",
            "50/50 [==============================] - 0s 4ms/step - loss: 0.5196 - accuracy: 0.7937 - val_loss: 0.4927 - val_accuracy: 0.8150\n",
            "Epoch 37/100\n",
            "47/50 [===========================>..] - ETA: 0s - loss: 0.5173 - accuracy: 0.7972\n",
            "Epoch 37: val_loss improved from 0.49206 to 0.49125, saving model to saved_models/audio_classification.hdf5\n",
            "50/50 [==============================] - 0s 5ms/step - loss: 0.5169 - accuracy: 0.7962 - val_loss: 0.4912 - val_accuracy: 0.8150\n",
            "Epoch 38/100\n",
            "47/50 [===========================>..] - ETA: 0s - loss: 0.5111 - accuracy: 0.7952\n",
            "Epoch 38: val_loss improved from 0.49125 to 0.48976, saving model to saved_models/audio_classification.hdf5\n",
            "50/50 [==============================] - 0s 5ms/step - loss: 0.5123 - accuracy: 0.7944 - val_loss: 0.4898 - val_accuracy: 0.8150\n",
            "Epoch 39/100\n",
            "48/50 [===========================>..] - ETA: 0s - loss: 0.5135 - accuracy: 0.7943\n",
            "Epoch 39: val_loss improved from 0.48976 to 0.48798, saving model to saved_models/audio_classification.hdf5\n",
            "50/50 [==============================] - 0s 5ms/step - loss: 0.5120 - accuracy: 0.7950 - val_loss: 0.4880 - val_accuracy: 0.8150\n",
            "Epoch 40/100\n",
            "46/50 [==========================>...] - ETA: 0s - loss: 0.5228 - accuracy: 0.7908\n",
            "Epoch 40: val_loss improved from 0.48798 to 0.48711, saving model to saved_models/audio_classification.hdf5\n",
            "50/50 [==============================] - 0s 5ms/step - loss: 0.5186 - accuracy: 0.7937 - val_loss: 0.4871 - val_accuracy: 0.8150\n",
            "Epoch 41/100\n",
            "47/50 [===========================>..] - ETA: 0s - loss: 0.5188 - accuracy: 0.7959\n",
            "Epoch 41: val_loss improved from 0.48711 to 0.48661, saving model to saved_models/audio_classification.hdf5\n",
            "50/50 [==============================] - 0s 5ms/step - loss: 0.5184 - accuracy: 0.7962 - val_loss: 0.4866 - val_accuracy: 0.8150\n",
            "Epoch 42/100\n",
            "43/50 [========================>.....] - ETA: 0s - loss: 0.5158 - accuracy: 0.7907\n",
            "Epoch 42: val_loss did not improve from 0.48661\n",
            "50/50 [==============================] - 0s 5ms/step - loss: 0.5105 - accuracy: 0.7956 - val_loss: 0.4868 - val_accuracy: 0.8150\n",
            "Epoch 43/100\n",
            "43/50 [========================>.....] - ETA: 0s - loss: 0.5178 - accuracy: 0.7929\n",
            "Epoch 43: val_loss improved from 0.48661 to 0.48537, saving model to saved_models/audio_classification.hdf5\n",
            "50/50 [==============================] - 0s 6ms/step - loss: 0.5171 - accuracy: 0.7937 - val_loss: 0.4854 - val_accuracy: 0.8150\n",
            "Epoch 44/100\n",
            "42/50 [========================>.....] - ETA: 0s - loss: 0.5233 - accuracy: 0.7872\n",
            "Epoch 44: val_loss improved from 0.48537 to 0.48512, saving model to saved_models/audio_classification.hdf5\n",
            "50/50 [==============================] - 0s 5ms/step - loss: 0.5108 - accuracy: 0.7969 - val_loss: 0.4851 - val_accuracy: 0.8150\n",
            "Epoch 45/100\n",
            "44/50 [=========================>....] - ETA: 0s - loss: 0.5037 - accuracy: 0.7983\n",
            "Epoch 45: val_loss improved from 0.48512 to 0.48448, saving model to saved_models/audio_classification.hdf5\n",
            "50/50 [==============================] - 0s 5ms/step - loss: 0.5036 - accuracy: 0.7981 - val_loss: 0.4845 - val_accuracy: 0.8150\n",
            "Epoch 46/100\n",
            "40/50 [=======================>......] - ETA: 0s - loss: 0.5091 - accuracy: 0.7953\n",
            "Epoch 46: val_loss improved from 0.48448 to 0.48446, saving model to saved_models/audio_classification.hdf5\n",
            "50/50 [==============================] - 0s 5ms/step - loss: 0.5095 - accuracy: 0.7956 - val_loss: 0.4845 - val_accuracy: 0.8150\n",
            "Epoch 47/100\n",
            "43/50 [========================>.....] - ETA: 0s - loss: 0.5043 - accuracy: 0.7965\n",
            "Epoch 47: val_loss improved from 0.48446 to 0.48435, saving model to saved_models/audio_classification.hdf5\n",
            "50/50 [==============================] - 0s 5ms/step - loss: 0.5103 - accuracy: 0.7950 - val_loss: 0.4844 - val_accuracy: 0.8150\n",
            "Epoch 48/100\n",
            "46/50 [==========================>...] - ETA: 0s - loss: 0.5188 - accuracy: 0.7962\n",
            "Epoch 48: val_loss did not improve from 0.48435\n",
            "50/50 [==============================] - 0s 4ms/step - loss: 0.5201 - accuracy: 0.7950 - val_loss: 0.4845 - val_accuracy: 0.8150\n",
            "Epoch 49/100\n",
            "45/50 [==========================>...] - ETA: 0s - loss: 0.5100 - accuracy: 0.7937\n",
            "Epoch 49: val_loss improved from 0.48435 to 0.48420, saving model to saved_models/audio_classification.hdf5\n",
            "50/50 [==============================] - 0s 5ms/step - loss: 0.5054 - accuracy: 0.7969 - val_loss: 0.4842 - val_accuracy: 0.8150\n",
            "Epoch 50/100\n",
            "42/50 [========================>.....] - ETA: 0s - loss: 0.4998 - accuracy: 0.7999\n",
            "Epoch 50: val_loss improved from 0.48420 to 0.48396, saving model to saved_models/audio_classification.hdf5\n",
            "50/50 [==============================] - 0s 5ms/step - loss: 0.5055 - accuracy: 0.7956 - val_loss: 0.4840 - val_accuracy: 0.8150\n",
            "Epoch 51/100\n",
            "45/50 [==========================>...] - ETA: 0s - loss: 0.5145 - accuracy: 0.7944\n",
            "Epoch 51: val_loss improved from 0.48396 to 0.48366, saving model to saved_models/audio_classification.hdf5\n",
            "50/50 [==============================] - 0s 5ms/step - loss: 0.5095 - accuracy: 0.7969 - val_loss: 0.4837 - val_accuracy: 0.8150\n",
            "Epoch 52/100\n",
            "42/50 [========================>.....] - ETA: 0s - loss: 0.5110 - accuracy: 0.7954\n",
            "Epoch 52: val_loss improved from 0.48366 to 0.48317, saving model to saved_models/audio_classification.hdf5\n",
            "50/50 [==============================] - 0s 5ms/step - loss: 0.5107 - accuracy: 0.7950 - val_loss: 0.4832 - val_accuracy: 0.8150\n",
            "Epoch 53/100\n",
            "45/50 [==========================>...] - ETA: 0s - loss: 0.5038 - accuracy: 0.7986\n",
            "Epoch 53: val_loss improved from 0.48317 to 0.48306, saving model to saved_models/audio_classification.hdf5\n",
            "50/50 [==============================] - 0s 5ms/step - loss: 0.5074 - accuracy: 0.7956 - val_loss: 0.4831 - val_accuracy: 0.8150\n",
            "Epoch 54/100\n",
            "43/50 [========================>.....] - ETA: 0s - loss: 0.5040 - accuracy: 0.8016\n",
            "Epoch 54: val_loss improved from 0.48306 to 0.48255, saving model to saved_models/audio_classification.hdf5\n",
            "50/50 [==============================] - 0s 5ms/step - loss: 0.5114 - accuracy: 0.7956 - val_loss: 0.4825 - val_accuracy: 0.8150\n",
            "Epoch 55/100\n",
            "48/50 [===========================>..] - ETA: 0s - loss: 0.5117 - accuracy: 0.7949\n",
            "Epoch 55: val_loss improved from 0.48255 to 0.48251, saving model to saved_models/audio_classification.hdf5\n",
            "50/50 [==============================] - 0s 5ms/step - loss: 0.5100 - accuracy: 0.7956 - val_loss: 0.4825 - val_accuracy: 0.8150\n",
            "Epoch 56/100\n",
            "44/50 [=========================>....] - ETA: 0s - loss: 0.5149 - accuracy: 0.7912\n",
            "Epoch 56: val_loss did not improve from 0.48251\n",
            "50/50 [==============================] - 0s 4ms/step - loss: 0.5095 - accuracy: 0.7950 - val_loss: 0.4828 - val_accuracy: 0.8150\n",
            "Epoch 57/100\n",
            "35/50 [====================>.........] - ETA: 0s - loss: 0.5037 - accuracy: 0.7973\n",
            "Epoch 57: val_loss did not improve from 0.48251\n",
            "50/50 [==============================] - 0s 4ms/step - loss: 0.5089 - accuracy: 0.7956 - val_loss: 0.4828 - val_accuracy: 0.8150\n",
            "Epoch 58/100\n",
            "44/50 [=========================>....] - ETA: 0s - loss: 0.5130 - accuracy: 0.7955\n",
            "Epoch 58: val_loss did not improve from 0.48251\n",
            "50/50 [==============================] - 0s 5ms/step - loss: 0.5115 - accuracy: 0.7962 - val_loss: 0.4831 - val_accuracy: 0.8150\n",
            "Epoch 59/100\n",
            "44/50 [=========================>....] - ETA: 0s - loss: 0.5160 - accuracy: 0.7898\n",
            "Epoch 59: val_loss did not improve from 0.48251\n",
            "50/50 [==============================] - 0s 5ms/step - loss: 0.5069 - accuracy: 0.7962 - val_loss: 0.4829 - val_accuracy: 0.8150\n",
            "Epoch 60/100\n",
            "49/50 [============================>.] - ETA: 0s - loss: 0.5086 - accuracy: 0.7959\n",
            "Epoch 60: val_loss improved from 0.48251 to 0.48239, saving model to saved_models/audio_classification.hdf5\n",
            "50/50 [==============================] - 0s 5ms/step - loss: 0.5073 - accuracy: 0.7969 - val_loss: 0.4824 - val_accuracy: 0.8150\n",
            "Epoch 61/100\n",
            "48/50 [===========================>..] - ETA: 0s - loss: 0.5099 - accuracy: 0.7956\n",
            "Epoch 61: val_loss improved from 0.48239 to 0.48231, saving model to saved_models/audio_classification.hdf5\n",
            "50/50 [==============================] - 0s 5ms/step - loss: 0.5095 - accuracy: 0.7956 - val_loss: 0.4823 - val_accuracy: 0.8150\n",
            "Epoch 62/100\n",
            "42/50 [========================>.....] - ETA: 0s - loss: 0.5040 - accuracy: 0.7991\n",
            "Epoch 62: val_loss improved from 0.48231 to 0.48201, saving model to saved_models/audio_classification.hdf5\n",
            "50/50 [==============================] - 0s 5ms/step - loss: 0.5088 - accuracy: 0.7956 - val_loss: 0.4820 - val_accuracy: 0.8150\n",
            "Epoch 63/100\n",
            "41/50 [=======================>......] - ETA: 0s - loss: 0.5068 - accuracy: 0.7973\n",
            "Epoch 63: val_loss improved from 0.48201 to 0.48195, saving model to saved_models/audio_classification.hdf5\n",
            "50/50 [==============================] - 0s 5ms/step - loss: 0.5091 - accuracy: 0.7962 - val_loss: 0.4820 - val_accuracy: 0.8150\n",
            "Epoch 64/100\n",
            "46/50 [==========================>...] - ETA: 0s - loss: 0.5123 - accuracy: 0.7928\n",
            "Epoch 64: val_loss improved from 0.48195 to 0.48179, saving model to saved_models/audio_classification.hdf5\n",
            "50/50 [==============================] - 0s 5ms/step - loss: 0.5080 - accuracy: 0.7956 - val_loss: 0.4818 - val_accuracy: 0.8150\n",
            "Epoch 65/100\n",
            "46/50 [==========================>...] - ETA: 0s - loss: 0.5101 - accuracy: 0.7935\n",
            "Epoch 65: val_loss did not improve from 0.48179\n",
            "50/50 [==============================] - 0s 5ms/step - loss: 0.5058 - accuracy: 0.7962 - val_loss: 0.4819 - val_accuracy: 0.8150\n",
            "Epoch 66/100\n",
            "40/50 [=======================>......] - ETA: 0s - loss: 0.5094 - accuracy: 0.7945\n",
            "Epoch 66: val_loss improved from 0.48179 to 0.48163, saving model to saved_models/audio_classification.hdf5\n",
            "50/50 [==============================] - 0s 5ms/step - loss: 0.5061 - accuracy: 0.7962 - val_loss: 0.4816 - val_accuracy: 0.8150\n",
            "Epoch 67/100\n",
            "44/50 [=========================>....] - ETA: 0s - loss: 0.5004 - accuracy: 0.7976\n",
            "Epoch 67: val_loss improved from 0.48163 to 0.48127, saving model to saved_models/audio_classification.hdf5\n",
            "50/50 [==============================] - 0s 5ms/step - loss: 0.5029 - accuracy: 0.7962 - val_loss: 0.4813 - val_accuracy: 0.8150\n",
            "Epoch 68/100\n",
            "44/50 [=========================>....] - ETA: 0s - loss: 0.5018 - accuracy: 0.7976\n",
            "Epoch 68: val_loss did not improve from 0.48127\n",
            "50/50 [==============================] - 0s 4ms/step - loss: 0.5033 - accuracy: 0.7962 - val_loss: 0.4818 - val_accuracy: 0.8150\n",
            "Epoch 69/100\n",
            "45/50 [==========================>...] - ETA: 0s - loss: 0.5063 - accuracy: 0.7979\n",
            "Epoch 69: val_loss did not improve from 0.48127\n",
            "50/50 [==============================] - 0s 4ms/step - loss: 0.5066 - accuracy: 0.7975 - val_loss: 0.4816 - val_accuracy: 0.8150\n",
            "Epoch 70/100\n",
            "42/50 [========================>.....] - ETA: 0s - loss: 0.4992 - accuracy: 0.8013\n",
            "Epoch 70: val_loss did not improve from 0.48127\n",
            "50/50 [==============================] - 0s 5ms/step - loss: 0.5065 - accuracy: 0.7962 - val_loss: 0.4814 - val_accuracy: 0.8150\n",
            "Epoch 71/100\n",
            "43/50 [========================>.....] - ETA: 0s - loss: 0.5046 - accuracy: 0.7965\n",
            "Epoch 71: val_loss did not improve from 0.48127\n",
            "50/50 [==============================] - 0s 5ms/step - loss: 0.5062 - accuracy: 0.7956 - val_loss: 0.4815 - val_accuracy: 0.8150\n",
            "Epoch 72/100\n",
            "44/50 [=========================>....] - ETA: 0s - loss: 0.5084 - accuracy: 0.7933\n",
            "Epoch 72: val_loss did not improve from 0.48127\n",
            "50/50 [==============================] - 0s 5ms/step - loss: 0.5035 - accuracy: 0.7969 - val_loss: 0.4813 - val_accuracy: 0.8150\n",
            "Epoch 73/100\n",
            "44/50 [=========================>....] - ETA: 0s - loss: 0.5066 - accuracy: 0.7990\n",
            "Epoch 73: val_loss did not improve from 0.48127\n",
            "50/50 [==============================] - 0s 4ms/step - loss: 0.5092 - accuracy: 0.7962 - val_loss: 0.4813 - val_accuracy: 0.8150\n",
            "Epoch 74/100\n",
            "42/50 [========================>.....] - ETA: 0s - loss: 0.4952 - accuracy: 0.8013\n",
            "Epoch 74: val_loss did not improve from 0.48127\n",
            "50/50 [==============================] - 0s 5ms/step - loss: 0.5040 - accuracy: 0.7956 - val_loss: 0.4815 - val_accuracy: 0.8150\n",
            "Epoch 75/100\n",
            "42/50 [========================>.....] - ETA: 0s - loss: 0.5101 - accuracy: 0.7924\n",
            "Epoch 75: val_loss did not improve from 0.48127\n",
            "50/50 [==============================] - 0s 5ms/step - loss: 0.5037 - accuracy: 0.7962 - val_loss: 0.4820 - val_accuracy: 0.8150\n",
            "Epoch 76/100\n",
            "44/50 [=========================>....] - ETA: 0s - loss: 0.5026 - accuracy: 0.8004\n",
            "Epoch 76: val_loss did not improve from 0.48127\n",
            "50/50 [==============================] - 0s 4ms/step - loss: 0.5065 - accuracy: 0.7969 - val_loss: 0.4817 - val_accuracy: 0.8150\n",
            "Epoch 77/100\n",
            "46/50 [==========================>...] - ETA: 0s - loss: 0.5058 - accuracy: 0.7962\n",
            "Epoch 77: val_loss did not improve from 0.48127\n",
            "50/50 [==============================] - 0s 5ms/step - loss: 0.5057 - accuracy: 0.7962 - val_loss: 0.4814 - val_accuracy: 0.8150\n",
            "Epoch 78/100\n",
            "43/50 [========================>.....] - ETA: 0s - loss: 0.5139 - accuracy: 0.7922\n",
            "Epoch 78: val_loss did not improve from 0.48127\n",
            "50/50 [==============================] - 0s 5ms/step - loss: 0.5080 - accuracy: 0.7969 - val_loss: 0.4817 - val_accuracy: 0.8150\n",
            "Epoch 79/100\n",
            "44/50 [=========================>....] - ETA: 0s - loss: 0.5066 - accuracy: 0.7940\n",
            "Epoch 79: val_loss did not improve from 0.48127\n",
            "50/50 [==============================] - 0s 4ms/step - loss: 0.5039 - accuracy: 0.7962 - val_loss: 0.4814 - val_accuracy: 0.8150\n",
            "Epoch 80/100\n",
            "45/50 [==========================>...] - ETA: 0s - loss: 0.5087 - accuracy: 0.7937\n",
            "Epoch 80: val_loss did not improve from 0.48127\n",
            "50/50 [==============================] - 0s 4ms/step - loss: 0.5094 - accuracy: 0.7937 - val_loss: 0.4814 - val_accuracy: 0.8150\n",
            "Epoch 81/100\n",
            "33/50 [==================>...........] - ETA: 0s - loss: 0.5167 - accuracy: 0.7879\n",
            "Epoch 81: val_loss improved from 0.48127 to 0.48121, saving model to saved_models/audio_classification.hdf5\n",
            "50/50 [==============================] - 0s 5ms/step - loss: 0.5053 - accuracy: 0.7969 - val_loss: 0.4812 - val_accuracy: 0.8150\n",
            "Epoch 82/100\n",
            "43/50 [========================>.....] - ETA: 0s - loss: 0.5089 - accuracy: 0.7929\n",
            "Epoch 82: val_loss improved from 0.48121 to 0.48100, saving model to saved_models/audio_classification.hdf5\n",
            "50/50 [==============================] - 0s 5ms/step - loss: 0.5067 - accuracy: 0.7950 - val_loss: 0.4810 - val_accuracy: 0.8150\n",
            "Epoch 83/100\n",
            "42/50 [========================>.....] - ETA: 0s - loss: 0.5139 - accuracy: 0.7894\n",
            "Epoch 83: val_loss improved from 0.48100 to 0.48099, saving model to saved_models/audio_classification.hdf5\n",
            "50/50 [==============================] - 0s 5ms/step - loss: 0.5064 - accuracy: 0.7950 - val_loss: 0.4810 - val_accuracy: 0.8150\n",
            "Epoch 84/100\n",
            "47/50 [===========================>..] - ETA: 0s - loss: 0.5046 - accuracy: 0.7972\n",
            "Epoch 84: val_loss improved from 0.48099 to 0.48058, saving model to saved_models/audio_classification.hdf5\n",
            "50/50 [==============================] - 0s 5ms/step - loss: 0.5060 - accuracy: 0.7962 - val_loss: 0.4806 - val_accuracy: 0.8150\n",
            "Epoch 85/100\n",
            "46/50 [==========================>...] - ETA: 0s - loss: 0.5022 - accuracy: 0.7982\n",
            "Epoch 85: val_loss did not improve from 0.48058\n",
            "50/50 [==============================] - 0s 5ms/step - loss: 0.5050 - accuracy: 0.7962 - val_loss: 0.4810 - val_accuracy: 0.8150\n",
            "Epoch 86/100\n",
            "45/50 [==========================>...] - ETA: 0s - loss: 0.4999 - accuracy: 0.8000\n",
            "Epoch 86: val_loss did not improve from 0.48058\n",
            "50/50 [==============================] - 0s 5ms/step - loss: 0.5049 - accuracy: 0.7962 - val_loss: 0.4810 - val_accuracy: 0.8150\n",
            "Epoch 87/100\n",
            "45/50 [==========================>...] - ETA: 0s - loss: 0.4986 - accuracy: 0.8000\n",
            "Epoch 87: val_loss did not improve from 0.48058\n",
            "50/50 [==============================] - 0s 5ms/step - loss: 0.5044 - accuracy: 0.7962 - val_loss: 0.4818 - val_accuracy: 0.8150\n",
            "Epoch 88/100\n",
            "46/50 [==========================>...] - ETA: 0s - loss: 0.5016 - accuracy: 0.8010\n",
            "Epoch 88: val_loss did not improve from 0.48058\n",
            "50/50 [==============================] - 0s 4ms/step - loss: 0.5075 - accuracy: 0.7962 - val_loss: 0.4813 - val_accuracy: 0.8150\n",
            "Epoch 89/100\n",
            "47/50 [===========================>..] - ETA: 0s - loss: 0.5072 - accuracy: 0.7945\n",
            "Epoch 89: val_loss did not improve from 0.48058\n",
            "50/50 [==============================] - 0s 4ms/step - loss: 0.5045 - accuracy: 0.7962 - val_loss: 0.4817 - val_accuracy: 0.8150\n",
            "Epoch 90/100\n",
            "45/50 [==========================>...] - ETA: 0s - loss: 0.5081 - accuracy: 0.7951\n",
            "Epoch 90: val_loss did not improve from 0.48058\n",
            "50/50 [==============================] - 0s 5ms/step - loss: 0.5062 - accuracy: 0.7962 - val_loss: 0.4820 - val_accuracy: 0.8150\n",
            "Epoch 91/100\n",
            "42/50 [========================>.....] - ETA: 0s - loss: 0.5021 - accuracy: 0.7969\n",
            "Epoch 91: val_loss did not improve from 0.48058\n",
            "50/50 [==============================] - 0s 5ms/step - loss: 0.5035 - accuracy: 0.7962 - val_loss: 0.4842 - val_accuracy: 0.8150\n",
            "Epoch 92/100\n",
            "44/50 [=========================>....] - ETA: 0s - loss: 0.4948 - accuracy: 0.8026\n",
            "Epoch 92: val_loss did not improve from 0.48058\n",
            "50/50 [==============================] - 0s 5ms/step - loss: 0.5031 - accuracy: 0.7962 - val_loss: 0.4847 - val_accuracy: 0.8150\n",
            "Epoch 93/100\n",
            "42/50 [========================>.....] - ETA: 0s - loss: 0.5169 - accuracy: 0.7902\n",
            "Epoch 93: val_loss did not improve from 0.48058\n",
            "50/50 [==============================] - 0s 5ms/step - loss: 0.5074 - accuracy: 0.7962 - val_loss: 0.4835 - val_accuracy: 0.8150\n",
            "Epoch 94/100\n",
            "43/50 [========================>.....] - ETA: 0s - loss: 0.5048 - accuracy: 0.7958\n",
            "Epoch 94: val_loss did not improve from 0.48058\n",
            "50/50 [==============================] - 0s 5ms/step - loss: 0.5040 - accuracy: 0.7956 - val_loss: 0.4833 - val_accuracy: 0.8150\n",
            "Epoch 95/100\n",
            "38/50 [=====================>........] - ETA: 0s - loss: 0.4965 - accuracy: 0.7993\n",
            "Epoch 95: val_loss did not improve from 0.48058\n",
            "50/50 [==============================] - 0s 5ms/step - loss: 0.5028 - accuracy: 0.7956 - val_loss: 0.4856 - val_accuracy: 0.8150\n",
            "Epoch 96/100\n",
            "43/50 [========================>.....] - ETA: 0s - loss: 0.4981 - accuracy: 0.8001\n",
            "Epoch 96: val_loss did not improve from 0.48058\n",
            "50/50 [==============================] - 0s 5ms/step - loss: 0.5032 - accuracy: 0.7962 - val_loss: 0.4862 - val_accuracy: 0.8150\n",
            "Epoch 97/100\n",
            "42/50 [========================>.....] - ETA: 0s - loss: 0.5071 - accuracy: 0.7924\n",
            "Epoch 97: val_loss did not improve from 0.48058\n",
            "50/50 [==============================] - 0s 5ms/step - loss: 0.5025 - accuracy: 0.7956 - val_loss: 0.4866 - val_accuracy: 0.8150\n",
            "Epoch 98/100\n",
            "46/50 [==========================>...] - ETA: 0s - loss: 0.5049 - accuracy: 0.7948\n",
            "Epoch 98: val_loss did not improve from 0.48058\n",
            "50/50 [==============================] - 0s 4ms/step - loss: 0.5030 - accuracy: 0.7962 - val_loss: 0.4887 - val_accuracy: 0.8150\n",
            "Epoch 99/100\n",
            "41/50 [=======================>......] - ETA: 0s - loss: 0.4956 - accuracy: 0.8003\n",
            "Epoch 99: val_loss did not improve from 0.48058\n",
            "50/50 [==============================] - 0s 5ms/step - loss: 0.5033 - accuracy: 0.7962 - val_loss: 0.4892 - val_accuracy: 0.8150\n",
            "Epoch 100/100\n",
            "47/50 [===========================>..] - ETA: 0s - loss: 0.4935 - accuracy: 0.8032\n",
            "Epoch 100: val_loss did not improve from 0.48058\n",
            "50/50 [==============================] - 0s 4ms/step - loss: 0.5027 - accuracy: 0.7962 - val_loss: 0.4876 - val_accuracy: 0.8150\n",
            "Training completed in time:  0:00:41.997230\n"
          ]
        }
      ]
    },
    {
      "cell_type": "markdown",
      "metadata": {
        "id": "zZwp7BZcp0ny"
      },
      "source": [
        "## Model Validation"
      ]
    },
    {
      "cell_type": "markdown",
      "source": [
        "print test accuracy"
      ],
      "metadata": {
        "id": "mI_uNEtntJ6L"
      }
    },
    {
      "cell_type": "code",
      "source": [
        "test_accuracy=model.evaluate(X_test,y_test,verbose=0)\n",
        "print(test_accuracy)"
      ],
      "metadata": {
        "id": "JrJ575gXtNVv",
        "colab": {
          "base_uri": "https://localhost:8080/"
        },
        "outputId": "d620c27b-0aa0-4f6b-f810-105058a07f1e"
      },
      "execution_count": 17,
      "outputs": [
        {
          "output_type": "stream",
          "name": "stdout",
          "text": [
            "[0.4875955879688263, 0.8149999976158142]\n"
          ]
        }
      ]
    },
    {
      "cell_type": "markdown",
      "metadata": {
        "id": "qYs50RBkp9Gn"
      },
      "source": [
        "# Conclusions"
      ]
    },
    {
      "cell_type": "markdown",
      "source": [
        "Accuracy still needs improvement, and we will try different models and data processsing methods to have a better or more complete result. "
      ],
      "metadata": {
        "id": "FxsQNZ-cuGfc"
      }
    },
    {
      "cell_type": "markdown",
      "source": [
        "Based on our current knowledge level and information, we are not certain about if a different approach will result in a better outcome. However, we'll try more models"
      ],
      "metadata": {
        "id": "YZHL1y_LuRmG"
      }
    },
    {
      "cell_type": "markdown",
      "metadata": {
        "id": "HJMhDSlpqACD"
      },
      "source": [
        "#Future Work"
      ]
    },
    {
      "cell_type": "markdown",
      "source": [
        "Build and test more models, also try to process the audios"
      ],
      "metadata": {
        "id": "l44qmOWuvLNE"
      }
    },
    {
      "cell_type": "markdown",
      "metadata": {
        "id": "GFEF9ZqKMAPQ"
      },
      "source": [
        "# Acknowledgements\n",
        "\n",
        "\n",
        "\n"
      ]
    },
    {
      "cell_type": "markdown",
      "source": [
        "dataset cite: https://github.com/karolpiczak/ESC-50.git\n"
      ],
      "metadata": {
        "id": "-FGWxtuFduuo"
      }
    }
  ]
}